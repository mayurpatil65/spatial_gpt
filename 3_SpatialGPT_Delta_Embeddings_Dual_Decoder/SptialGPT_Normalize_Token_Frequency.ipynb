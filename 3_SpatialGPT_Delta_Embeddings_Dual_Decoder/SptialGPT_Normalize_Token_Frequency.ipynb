{
 "cells": [
  {
   "cell_type": "code",
   "execution_count": null,
   "metadata": {
    "collapsed": true
   },
   "outputs": [],
   "source": [
    "import torch\n",
    "import torch.nn as nn\n",
    "import torch.nn.functional as F\n",
    "import pandas as pd\n",
    "import numpy as np\n",
    "from s2sphere import CellId\n",
    "import matplotlib.pyplot as plt\n",
    "from haversine import haversine, Unit\n",
    "import random\n",
    "import os\n",
    "device = torch.device(\"cuda\" if torch.cuda.is_available() else \"cpu\")\n",
    "print(\"Using device:\", device)"
   ]
  },
  {
   "cell_type": "code",
   "execution_count": null,
   "outputs": [],
   "source": [
    "# Load data\n",
    "data_df = pd.read_csv('data/S2Cell_ID_level16.csv', usecols=[2], names=[\"S2_Cell_ID\"], header=0)\n",
    "vocab_df = pd.read_csv('data/uniqueS2s_level16.csv', names=[\"Token\"])\n",
    "data = list(map(int, data_df['S2_Cell_ID'].astype(str).str.strip()))\n",
    "vocab_tokens = list(map(int, vocab_df['Token'].astype(str).str.strip()))\n",
    "id_to_idx = {token: idx for idx, token in enumerate(vocab_tokens)}\n",
    "indexed_data = [id_to_idx[cell_id] for cell_id in data if cell_id in id_to_idx]\n",
    "data_tensor = torch.tensor(indexed_data, dtype=torch.long)\n",
    "n = int(0.8 * len(data_tensor))\n",
    "train_data = data_tensor[:n]\n",
    "val_data = data_tensor[n:]\n",
    "print(\"Data points:\", len(indexed_data), \"| Vocab size:\", len(vocab_tokens))"
   ],
   "metadata": {
    "collapsed": false
   }
  },
  {
   "cell_type": "code",
   "execution_count": null,
   "outputs": [],
   "source": [
    "from collections import Counter\n",
    "\n",
    "# Count how often each token appears in training data\n",
    "token_counts = Counter(train_data.tolist())\n",
    "token_freq = torch.tensor([token_counts.get(i, 1) for i in range(len(vocab_tokens))], dtype=torch.float32)\n",
    "token_freq = token_freq / token_freq.sum()\n",
    "log_freq_penalty = torch.log(token_freq + 1e-8)  # Add small constant for stability\n"
   ],
   "metadata": {
    "collapsed": false
   }
  }
 ],
 "metadata": {
  "kernelspec": {
   "display_name": "Python 3",
   "language": "python",
   "name": "python3"
  },
  "language_info": {
   "codemirror_mode": {
    "name": "ipython",
    "version": 2
   },
   "file_extension": ".py",
   "mimetype": "text/x-python",
   "name": "python",
   "nbconvert_exporter": "python",
   "pygments_lexer": "ipython2",
   "version": "2.7.6"
  }
 },
 "nbformat": 4,
 "nbformat_minor": 0
}
